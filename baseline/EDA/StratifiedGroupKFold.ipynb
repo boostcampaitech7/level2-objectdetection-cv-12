{
 "cells": [
  {
   "cell_type": "code",
   "execution_count": null,
   "metadata": {},
   "outputs": [],
   "source": [
    "# 필요한 라이브러리 임포트\n",
    "import os\n",
    "import json\n",
    "import mmengine\n",
    "import numpy as np\n",
    "\n",
    "from sklearn.model_selection import StratifiedGroupKFold"
   ]
  },
  {
   "cell_type": "code",
   "execution_count": null,
   "metadata": {},
   "outputs": [],
   "source": [
    "# 데이터셋에서 레이블과 그룹 추출\n",
    "def extract_labels_and_groups(data):\n",
    "    labels = []\n",
    "    groups = []\n",
    "    for img in data['images']:\n",
    "        img_annotations = [ann for ann in data['annotations'] if ann['image_id'] == img['id']]\n",
    "        if img_annotations:\n",
    "            # 첫 번째 어노테이션의 카테고리 ID를 레이블로 사용\n",
    "            labels.append(img_annotations[0]['category_id'])\n",
    "        else:\n",
    "            labels.append(0)  # 어노테이션이 없는 경우 0으로 설정\n",
    "        groups.append(img['id'])\n",
    "    return np.array(labels), np.array(groups)"
   ]
  },
  {
   "cell_type": "code",
   "execution_count": null,
   "metadata": {},
   "outputs": [],
   "source": [
    "# 어노테이션 파일 저장 함수\n",
    "def save_anns(name, images, annotations, original_data, out_dir):\n",
    "    sub_anns = {\n",
    "        'images': images,\n",
    "        'annotations': annotations,\n",
    "        'licenses': original_data['licenses'],\n",
    "        'categories': original_data['categories'],\n",
    "        'info': original_data['info']\n",
    "    }\n",
    "    mmengine.mkdir_or_exist(out_dir)\n",
    "    mmengine.dump(sub_anns, os.path.join(out_dir, name))"
   ]
  },
  {
   "cell_type": "code",
   "execution_count": null,
   "metadata": {},
   "outputs": [],
   "source": [
    "# 이미지의 file_name 업데이트 함수\n",
    "def update_file_names(images, prefix):\n",
    "    for img in images:\n",
    "        img['file_name'] = os.path.join(prefix, os.path.basename(img['file_name']))\n",
    "    return images"
   ]
  },
  {
   "cell_type": "code",
   "execution_count": null,
   "metadata": {},
   "outputs": [],
   "source": [
    "# Stratified Group K-Fold 분할 함수\n",
    "def stratified_group_kfold_split(data, out_dir, fold):\n",
    "    labels, groups = extract_labels_and_groups(data)\n",
    "    sgkf = StratifiedGroupKFold(n_splits=fold, shuffle=True, random_state=2024)\n",
    "    for f, (train_idx, val_idx) in enumerate(sgkf.split(X=groups, y=labels, groups=groups), 1):\n",
    "        # 인덱스를 사용하여 이미지 리스트 분할\n",
    "        train_images = [data['images'][i] for i in train_idx]\n",
    "        val_images = [data['images'][i] for i in val_idx]\n",
    "\n",
    "        # 인덱스를 이미지 ID로 변환\n",
    "        train_image_ids = [data['images'][i]['id'] for i in train_idx]\n",
    "        val_image_ids = [data['images'][i]['id'] for i in val_idx]\n",
    "\n",
    "        # 이미지 ID를 사용하여 어노테이션 분할\n",
    "        train_annotations = [ann for ann in data['annotations'] if ann['image_id'] in train_image_ids]\n",
    "        val_annotations = [ann for ann in data['annotations'] if ann['image_id'] in val_image_ids]\n",
    "\n",
    "        # file_name 업데이트\n",
    "        train_images = update_file_names(train_images, 'train')\n",
    "        val_images = update_file_names(val_images, 'val')\n",
    "\n",
    "        # 어노테이션 파일 저장\n",
    "        save_anns(f'train_fold_{f}.json', train_images, train_annotations, data, out_dir)\n",
    "        save_anns(f'val_fold_{f}.json', val_images, val_annotations, data, out_dir)"
   ]
  },
  {
   "cell_type": "code",
   "execution_count": null,
   "metadata": {},
   "outputs": [],
   "source": [
    "# 데이터 로드 및 K-Fold 분할 실행\n",
    "def main():\n",
    "    data_root = '/data/ephemeral/home/level2-objectdetection-cv-12/dataset'\n",
    "    out_dir = '/data/ephemeral/home/level2-objectdetection-cv-12/k-fold-final'\n",
    "    fold = 10\n",
    "\n",
    "    with open(os.path.join(data_root, 'train.json'), 'r') as f:\n",
    "        data = json.load(f)\n",
    "\n",
    "    stratified_group_kfold_split(data, out_dir, fold)\n",
    "\n",
    "if __name__ == '__main__':\n",
    "    main()"
   ]
  }
 ],
 "metadata": {
  "kernelspec": {
   "display_name": "base",
   "language": "python",
   "name": "python3"
  },
  "language_info": {
   "codemirror_mode": {
    "name": "ipython",
    "version": 3
   },
   "file_extension": ".py",
   "mimetype": "text/x-python",
   "name": "python",
   "nbconvert_exporter": "python",
   "pygments_lexer": "ipython3",
   "version": "3.10.13"
  }
 },
 "nbformat": 4,
 "nbformat_minor": 2
}
