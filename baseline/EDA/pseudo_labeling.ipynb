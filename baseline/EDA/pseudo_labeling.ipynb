{
 "cells": [
  {
   "cell_type": "code",
   "execution_count": 9,
   "metadata": {},
   "outputs": [],
   "source": [
    "import json\n",
    "import pandas as pd"
   ]
  },
  {
   "cell_type": "code",
   "execution_count": 10,
   "metadata": {},
   "outputs": [],
   "source": [
    "df = pd.read_csv('../results/.csv')\n",
    "with open('../../dataset/test.json') as f:\n",
    "    data = json.load(f)"
   ]
  },
  {
   "cell_type": "code",
   "execution_count": 11,
   "metadata": {},
   "outputs": [],
   "source": [
    "idx = 23139\n",
    "test_annotations = []\n",
    "for i in range(len(df)):\n",
    "    pred = df.iloc[i]['PredictionString']\n",
    "    img_id = df.iloc[i]['image_id']\n",
    "    pred_list = pred.split(' ')\n",
    "    if float(pred_list[1]) < 0.4 or float(pred_list[1]) >= 1:\n",
    "        x1 = float(pred_list[2])\n",
    "        y1 = float(pred_list[3])\n",
    "        x2 = float(pred_list[4])\n",
    "        y2 = float(pred_list[5])\n",
    "        w = x2 - x1\n",
    "        h = y2 - y1\n",
    "        img_id = img_id.replace('test/', '')\n",
    "        img_id = img_id.replace('.jpg', '')\n",
    "        annotation = {\n",
    "                'image_id' : int(img_id) + 4883,\n",
    "                'category_id' : int(pred_list[0]),\n",
    "                'area' : w*h,\n",
    "                'bbox' : [\n",
    "                    x1, x2, w, h\n",
    "                    ],\n",
    "                'iscrowd' : 0,\n",
    "                'id': idx\n",
    "        }\n",
    "        test_annotations.append(annotation)\n",
    "        idx += 1\n",
    "    for p in range(len(pred_list) // 6):\n",
    "        pred_one = pred_list[p*6:(p+1)*6]\n",
    "        \n",
    "        if float(pred_one[1]) >= 0.4:\n",
    "            x1 = float(pred_one[2])\n",
    "            y1 = float(pred_one[3])\n",
    "            x2 = float(pred_one[4])\n",
    "            y2 = float(pred_one[5])\n",
    "            w = x2 - x1\n",
    "            h = y2 - y1\n",
    "            img_id = img_id.replace('test/', '')\n",
    "            img_id = img_id.replace('.jpg', '')\n",
    "            annotation = {\n",
    "                'image_id' : int(img_id) + 4883,\n",
    "                'category_id' : int(pred_one[0]),\n",
    "                'area' : w*h,\n",
    "                'bbox' : [\n",
    "                    x1, x2, w, h\n",
    "                    ],\n",
    "                'iscrowd' : 0,\n",
    "                'id': idx\n",
    "            }\n",
    "            test_annotations.append(annotation)\n",
    "            idx += 1\n",
    "\n",
    "\n",
    "for i in data['images']:\n",
    "    i['id'] = int(i['id']) + 4883"
   ]
  },
  {
   "cell_type": "code",
   "execution_count": 12,
   "metadata": {},
   "outputs": [],
   "source": [
    "test_data = {\n",
    "        'info' : data['info'],\n",
    "        'licenses': data['licenses'],\n",
    "        'images': data['images'],\n",
    "        'annotations': test_annotations,\n",
    "        'categories': data['categories'],\n",
    "    }"
   ]
  },
  {
   "cell_type": "code",
   "execution_count": 13,
   "metadata": {},
   "outputs": [],
   "source": [
    "with open('../../dataset/pseudo_labeling.json', 'w') as f:\n",
    "    json.dump(test_data, f, indent=4)"
   ]
  },
  {
   "cell_type": "code",
   "execution_count": 15,
   "metadata": {},
   "outputs": [],
   "source": [
    "\n",
    "with open('../../dataset/train_fold_4.json') as f:\n",
    "    train_data = json.load(f)\n",
    "with open('../../dataset/pseudo_labeling.json') as f:\n",
    "    test_data = json.load(f)\n",
    "\n",
    "data= {\n",
    "        'info' : train_data['info'],\n",
    "        'licenses' : train_data['licenses'],\n",
    "        'images' : train_data['images'] + test_data['images'],\n",
    "        'categories' : train_data['categories'],\n",
    "        'annotations' : train_data['annotations'] + test_data['annotations']\n",
    "        }\n",
    "\n",
    "with open('../../dataset/pseudo_label.json', 'w') as f:\n",
    "    json.dump(data, f, indent=4)\n"
   ]
  },
  {
   "cell_type": "code",
   "execution_count": null,
   "metadata": {},
   "outputs": [],
   "source": []
  }
 ],
 "metadata": {
  "kernelspec": {
   "display_name": "naver",
   "language": "python",
   "name": "python3"
  },
  "language_info": {
   "codemirror_mode": {
    "name": "ipython",
    "version": 3
   },
   "file_extension": ".py",
   "mimetype": "text/x-python",
   "name": "python",
   "nbconvert_exporter": "python",
   "pygments_lexer": "ipython3",
   "version": "3.10.13"
  }
 },
 "nbformat": 4,
 "nbformat_minor": 2
}
