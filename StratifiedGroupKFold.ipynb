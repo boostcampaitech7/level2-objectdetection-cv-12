{
 "cells": [
  {
   "cell_type": "code",
   "execution_count": 1,
   "metadata": {},
   "outputs": [],
   "source": [
    "# Cell 1: Import required libraries\n",
    "import argparse\n",
    "import os.path as osp\n",
    "import json\n",
    "import mmengine\n",
    "import numpy as np\n",
    "import os\n",
    "\n",
    "from sklearn.model_selection import StratifiedGroupKFold"
   ]
  },
  {
   "cell_type": "code",
   "execution_count": null,
   "metadata": {},
   "outputs": [],
   "source": [
    "# Cell 2: Function to parse arguments (for notebook, we don't need argparse, so we will use default values)\n",
    "def parse_args():\n",
    "    class Args:\n",
    "        data_root = '/data/ephemeral/home/level2-objectdetection-cv-12/dataset'\n",
    "        out_dir = '/data/ephemeral/home/dataset/k-fold-final/'\n",
    "        fold = 10\n",
    "    return Args()"
   ]
  },
  {
   "cell_type": "code",
   "execution_count": null,
   "metadata": {},
   "outputs": [],
   "source": [
    "# Cell 3: Function to extract labels and groups from the dataset\n",
    "def extract_labels_and_groups(data):\n",
    "    labels = []\n",
    "    groups = []\n",
    "    for img in data['images']:\n",
    "        img_annotations = [ann for ann in data['annotations'] if ann['image_id'] == img['id']]\n",
    "        if img_annotations:\n",
    "            # Use the category ID of the first annotation as the representative label\n",
    "            labels.append(img_annotations[0]['category_id'])\n",
    "        else:\n",
    "            labels.append(0)  # Set label to 0 if there are no annotations\n",
    "        groups.append(img['id'])\n",
    "    return np.array(labels), np.array(groups)"
   ]
  },
  {
   "cell_type": "code",
   "execution_count": null,
   "metadata": {},
   "outputs": [],
   "source": [
    "# Cell 4: Function to save annotation files\n",
    "def save_anns(name, images, annotations, original_data, out_dir):\n",
    "    sub_anns = {'images': images, 'annotations': annotations, 'licenses': original_data['licenses'], 'categories': original_data['categories'], 'info': original_data['info']}\n",
    "    mmengine.mkdir_or_exist(out_dir)\n",
    "    mmengine.dump(sub_anns, os.path.join(out_dir, name))"
   ]
  },
  {
   "cell_type": "code",
   "execution_count": null,
   "metadata": {},
   "outputs": [],
   "source": [
    "# Cell 5: Function to perform Stratified Group K-Fold split\n",
    "def stratified_group_kfold_split(data, out_dir, fold):\n",
    "    labels, groups = extract_labels_and_groups(data)\n",
    "    sgkf = StratifiedGroupKFold(n_splits=fold, shuffle=True, random_state=2024)\n",
    "    for f, (train_idx, val_idx) in enumerate(sgkf.split(groups, labels, groups), 1):\n",
    "        train_images = [data['images'][i] for i in train_idx]\n",
    "        val_images = [data['images'][i] for i in val_idx]\n",
    "        train_annotations = [ann for ann in data['annotations'] if ann['image_id'] in train_idx]\n",
    "        val_annotations = [ann for ann in data['annotations'] if ann['image_id'] in val_idx]\n",
    "        save_anns(f'train_fold_{f}.json', train_images, train_annotations, data, out_dir)\n",
    "        save_anns(f'val_fold_{f}.json', val_images, val_annotations, data, out_dir)"
   ]
  },
  {
   "cell_type": "code",
   "execution_count": null,
   "metadata": {},
   "outputs": [],
   "source": [
    "# Cell 6: Load the dataset and execute the K-fold split\n",
    "# Instead of argparse, we will manually set the arguments here\n",
    "args = parse_args()\n",
    "with open(os.path.join(args.data_root, 'clean-final.json')) as f:\n",
    "    data = json.load(f)\n",
    "    \n",
    "stratified_group_kfold_split(data, args.out_dir, args.fold)"
   ]
  },
  {
   "cell_type": "code",
   "execution_count": null,
   "metadata": {},
   "outputs": [],
   "source": []
  },
  {
   "cell_type": "code",
   "execution_count": null,
   "metadata": {},
   "outputs": [],
   "source": []
  }
 ],
 "metadata": {
  "kernelspec": {
   "display_name": "base",
   "language": "python",
   "name": "python3"
  },
  "language_info": {
   "codemirror_mode": {
    "name": "ipython",
    "version": 3
   },
   "file_extension": ".py",
   "mimetype": "text/x-python",
   "name": "python",
   "nbconvert_exporter": "python",
   "pygments_lexer": "ipython3",
   "version": "3.10.13"
  }
 },
 "nbformat": 4,
 "nbformat_minor": 2
}
