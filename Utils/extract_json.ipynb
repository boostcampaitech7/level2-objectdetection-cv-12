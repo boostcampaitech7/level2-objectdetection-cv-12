{
 "cells": [
  {
   "cell_type": "code",
   "execution_count": null,
   "metadata": {
    "vscode": {
     "languageId": "plaintext"
    }
   },
   "outputs": [],
   "source": [
    "from mmengine.utils import get_git_hash\n",
    "from mmengine.utils.dl_utils import collect_env as collect_base_env\n",
    "\n",
    "import mmdet\n",
    "\n",
    "\n",
    "def collect_env():\n",
    "    \"\"\"Collect the information of the running environments.\"\"\"\n",
    "    env_info = collect_base_env()\n",
    "    env_info['MMDetection'] = f'{mmdet.__version__}+{get_git_hash()[:7]}'\n",
    "    return env_info\n",
    "\n",
    "\n",
    "if __name__ == '__main__':\n",
    "    for name, val in collect_env().items():\n",
    "        print(f'{name}: {val}')"
   ]
  },
  {
   "cell_type": "code",
   "execution_count": null,
   "metadata": {
    "vscode": {
     "languageId": "plaintext"
    }
   },
   "outputs": [],
   "source": [
    "import torch\n",
    "device = torch.device(\"cuda\" if torch.cuda.is_available() else \"cpu\")\n",
    "device"
   ]
  },
  {
   "cell_type": "code",
   "execution_count": null,
   "metadata": {
    "vscode": {
     "languageId": "plaintext"
    }
   },
   "outputs": [],
   "source": [
    "import torch\n",
    "print(torch.cuda.is_available())  # True가 나와야 정상\n",
    "print(torch.cuda.device_count())  # 사용 가능한 GPU 수 확인\n",
    "print(torch.cuda.current_device())  # 현재 사용 중인 GPU 확인\n",
    "print(torch.cuda.get_device_name(0))  # GPU 이름 출력"
   ]
  },
  {
   "cell_type": "code",
   "execution_count": null,
   "metadata": {
    "vscode": {
     "languageId": "plaintext"
    }
   },
   "outputs": [],
   "source": [
    "from mmdet.apis import DetInferencer\n",
    "\n",
    "# Choose to use a config\n",
    "model_name = '../mmdetection/projects/CO-DETR/configs/codino/co_dino_5scale_swin_l_16xb1_16e_o365tococo.py'\n",
    "# Setup a checkpoint file to load\n",
    "checkpoint = './co_dino_5scale_swin_large_16e_o365tococo-614254c9.pth'\n",
    "\n",
    "# Set the device to be used for evaluation\n",
    "device = 'cuda:0'\n",
    "\n",
    "# Initialize the DetInferencer\n",
    "inferencer = DetInferencer(model_name, checkpoint, device)\n",
    "\n",
    "# Use the detector to do inference\n",
    "img = '../mmdetection/demo/demo.jpg'\n",
    "result = inferencer(img, out_dir='./output')"
   ]
  },
  {
   "cell_type": "code",
   "execution_count": null,
   "metadata": {
    "vscode": {
     "languageId": "plaintext"
    }
   },
   "outputs": [],
   "source": [
    "import json\n",
    "import pandas as pd\n",
    "\n",
    "# 입력 JSON 파일 경로\n",
    "input_json_file = '/data/ephemeral/home/mmdetection/work_dirs/coco_detection/test.bbox.json'\n",
    "\n",
    "# 변환할 점수 임계값 설정\n",
    "score_threshold = 0.035\n",
    "\n",
    "# 출력할 CSV 파일 경로\n",
    "output_csv_file = f'./submission_{score_threshold}.csv'\n",
    "\n",
    "# JSON 파일 읽기\n",
    "with open(input_json_file, 'r') as json_file:\n",
    "    outputs = json.load(json_file)\n",
    "\n",
    "# 이미지 별로 결과를 저장하기 위한 딕셔너리\n",
    "results = {}\n",
    "\n",
    "# 변환 코드\n",
    "for output in outputs:\n",
    "    image_id = output['image_id']\n",
    "    \n",
    "    # bbox, score, category_id를 기반으로 PredictionString 작성\n",
    "    bbox = output['bbox']\n",
    "    score = output['score']\n",
    "    category_id = output['category_id']\n",
    "    \n",
    "    # score 임계값 이상만 변환\n",
    "    if score > score_threshold:\n",
    "        prediction = f\"{category_id} {score} {bbox[0]} {bbox[1]} {bbox[0]+bbox[2]} {bbox[1]+bbox[3]} \"\n",
    "        \n",
    "        # 동일한 image_id에 대해 PredictionString을 추가\n",
    "        if image_id in results:\n",
    "            results[image_id] += prediction\n",
    "        else:\n",
    "            results[image_id] = prediction\n",
    "\n",
    "# 결과 저장을 위한 리스트\n",
    "prediction_strings = []\n",
    "image_ids = []\n",
    "\n",
    "# 딕셔너리의 결과를 CSV 형식으로 변환\n",
    "for image_id, prediction_string in results.items():\n",
    "    prediction_strings.append(prediction_string.strip())  # 끝 공백 제거\n",
    "    image_ids.append(f\"test/{str(image_id).zfill(4)}.jpg\")  # 파일명 형식 맞추기\n",
    "\n",
    "# DataFrame 생성 및 CSV 저장\n",
    "submission = pd.DataFrame({\n",
    "    'PredictionString': prediction_strings,\n",
    "    'image_id': image_ids\n",
    "})\n",
    "\n",
    "# CSV로 저장\n",
    "submission.to_csv(output_csv_file, index=False)\n",
    "\n",
    "# 결과 확인\n",
    "print(submission.head())\n"
   ]
  },
  {
   "cell_type": "code",
   "execution_count": null,
   "metadata": {
    "vscode": {
     "languageId": "plaintext"
    }
   },
   "outputs": [],
   "source": [
    "import json\n",
    "import cv2\n",
    "import os\n",
    "\n",
    "# 경로 설정\n",
    "input_json_file = '/data/ephemeral/home/mmdetection/work_dirs/coco_detection/test.bbox.json'\n",
    "test_image_dir = '/data/ephemeral/home/FOLD/test'\n",
    "output_dir = './output'\n",
    "\n",
    "# 출력 디렉토리 없으면 생성\n",
    "os.makedirs(output_dir, exist_ok=True)\n",
    "\n",
    "# 변환할 점수 임계값 설정\n",
    "score_threshold = 0.5\n",
    "\n",
    "# JSON 파일 읽기\n",
    "with open(json_file_path, 'r') as f:\n",
    "    outputs = json.load(f)\n",
    "\n",
    "# 이미지를 한 번만 불러오기 위해 image_id를 기준으로 그룹화\n",
    "image_predictions = {}\n",
    "\n",
    "for output in outputs:\n",
    "    image_id = output['image_id']\n",
    "    bbox = output['bbox']  # [x1, y1, width, height]\n",
    "    score = output['score']\n",
    "    category_id = output['category_id']\n",
    "\n",
    "    # score가 임계값 이상인 경우만 처리\n",
    "    if score > score_threshold:\n",
    "        if image_id not in image_predictions:\n",
    "            image_predictions[image_id] = []\n",
    "        image_predictions[image_id].append({\n",
    "            'bbox': bbox,\n",
    "            'score': score,\n",
    "            'category_id': category_id\n",
    "        })\n",
    "\n",
    "# 이미지에 박스 그리기\n",
    "for image_id, predictions in image_predictions.items():\n",
    "    # 이미지 파일 경로 설정 (파일명은 \"image_id.jpg\" 형식으로 가정)\n",
    "    image_file = os.path.join(test_image_dir, f\"{str(image_id).zfill(4)}.jpg\")\n",
    "    output_image_file = os.path.join(output_dir, f\"{str(image_id).zfill(4)}.jpg\")\n",
    "    \n",
    "    # 이미지 열기\n",
    "    image = cv2.imread(image_file)\n",
    "    \n",
    "    if image is None:\n",
    "        print(f\"이미지 파일을 찾을 수 없습니다: {image_file}\")\n",
    "        continue\n",
    "\n",
    "    # 각 예측에 대해 박스를 그리기\n",
    "    for prediction in predictions:\n",
    "        bbox = prediction['bbox']\n",
    "        score = prediction['score']\n",
    "        category_id = prediction['category_id']\n",
    "        \n",
    "        # bbox 좌표 (x1, y1, x2, y2)\n",
    "        x1, y1 = bbox[0], bbox[1]\n",
    "        x2, y2 = bbox[0] + bbox[2], bbox[1] + bbox[3]\n",
    "        \n",
    "        # 박스 그리기 (빨간색, 두께 2)\n",
    "        cv2.rectangle(image, (int(x1), int(y1)), (int(x2), int(y2)), (0, 0, 255), 2)\n",
    "        \n",
    "        # 카테고리와 점수 추가 (이미지 좌상단에 텍스트로 표시)\n",
    "        label = f\"Class: {category_id}, Score: {score:.2f}\"\n",
    "        cv2.putText(image, label, (int(x1), int(y1) - 10), cv2.FONT_HERSHEY_SIMPLEX, 0.5, (255, 0, 0), 1)\n",
    "\n",
    "    # 결과 이미지 저장\n",
    "    cv2.imwrite(output_image_file, image)\n",
    "\n",
    "print(f\"이미지 출력 완료. 결과는 {output_dir}에 저장되었습니다.\")\n"
   ]
  }
 ],
 "metadata": {
  "language_info": {
   "name": "python"
  }
 },
 "nbformat": 4,
 "nbformat_minor": 2
}
